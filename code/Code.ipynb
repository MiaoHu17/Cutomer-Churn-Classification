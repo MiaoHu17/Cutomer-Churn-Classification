{
  "nbformat": 4,
  "nbformat_minor": 0,
  "metadata": {
    "colab": {
      "name": "Code.ipynb",
      "provenance": [],
      "toc_visible": true,
      "mount_file_id": "1yfI_bSIABp7EuQXEcbtvb_Rbd_bVxVRb",
      "authorship_tag": "ABX9TyO5NeA3qqc75fFgu+d82TN1",
      "include_colab_link": true
    },
    "kernelspec": {
      "display_name": "Python 3",
      "name": "python3"
    }
  },
  "cells": [
    {
      "cell_type": "markdown",
      "metadata": {
        "id": "view-in-github",
        "colab_type": "text"
      },
      "source": [
        "<a href=\"https://colab.research.google.com/github/MiaoHu17/Cutomer-Churn-Classification/blob/main/Code.ipynb\" target=\"_parent\"><img src=\"https://colab.research.google.com/assets/colab-badge.svg\" alt=\"Open In Colab\"/></a>"
      ]
    },
    {
      "cell_type": "code",
      "metadata": {
        "id": "X8cSsWtTtE8H"
      },
      "source": [
        "import pandas as pd\r\n",
        "\r\n",
        "import matplotlib.pyplot as plt\r\n",
        "\r\n",
        "from sklearn.model_selection import train_test_split,GridSearchCV\r\n",
        "from sklearn.metrics import classification_report,f1_score\r\n",
        "from sklearn.tree import DecisionTreeClassifier\r\n",
        "from sklearn.ensemble import RandomForestClassifier\r\n",
        "from sklearn.neural_network import MLPClassifier\r\n",
        "from sklearn.svm import SVC\r\n",
        "from sklearn.linear_model import LogisticRegression\r\n",
        "\r\n",
        "from scipy.stats import chi2_contingency\r\n",
        "\r\n",
        "import xgboost as xgb\r\n",
        "from xgboost import plot_importance\r\n",
        "\r\n",
        "import numpy as np"
      ],
      "execution_count": 2,
      "outputs": []
    },
    {
      "cell_type": "code",
      "metadata": {
        "id": "hebfb8OkI0OW"
      },
      "source": [
        "df = pd.read_csv('/content/drive/MyDrive/WA_Fn-UseC_-Telco-Customer-Churn.csv')"
      ],
      "execution_count": 3,
      "outputs": []
    },
    {
      "cell_type": "markdown",
      "metadata": {
        "id": "sur717tqTwNA"
      },
      "source": [
        "#Data Cleaning"
      ]
    },
    {
      "cell_type": "markdown",
      "metadata": {
        "id": "g_NNRLi-KHwk"
      },
      "source": [
        "Check NAs"
      ]
    },
    {
      "cell_type": "code",
      "metadata": {
        "colab": {
          "base_uri": "https://localhost:8080/"
        },
        "id": "UhF89z97J7W5",
        "outputId": "c13fdad6-43ab-4ad6-a881-d72a92a2632b"
      },
      "source": [
        "df.info()"
      ],
      "execution_count": 4,
      "outputs": [
        {
          "output_type": "stream",
          "text": [
            "<class 'pandas.core.frame.DataFrame'>\n",
            "RangeIndex: 7043 entries, 0 to 7042\n",
            "Data columns (total 21 columns):\n",
            " #   Column            Non-Null Count  Dtype  \n",
            "---  ------            --------------  -----  \n",
            " 0   customerID        7043 non-null   object \n",
            " 1   gender            7043 non-null   object \n",
            " 2   SeniorCitizen     7043 non-null   int64  \n",
            " 3   Partner           7043 non-null   object \n",
            " 4   Dependents        7043 non-null   object \n",
            " 5   tenure            7043 non-null   int64  \n",
            " 6   PhoneService      7043 non-null   object \n",
            " 7   MultipleLines     7043 non-null   object \n",
            " 8   InternetService   7043 non-null   object \n",
            " 9   OnlineSecurity    7043 non-null   object \n",
            " 10  OnlineBackup      7043 non-null   object \n",
            " 11  DeviceProtection  7043 non-null   object \n",
            " 12  TechSupport       7043 non-null   object \n",
            " 13  StreamingTV       7043 non-null   object \n",
            " 14  StreamingMovies   7043 non-null   object \n",
            " 15  Contract          7043 non-null   object \n",
            " 16  PaperlessBilling  7043 non-null   object \n",
            " 17  PaymentMethod     7043 non-null   object \n",
            " 18  MonthlyCharges    7043 non-null   float64\n",
            " 19  TotalCharges      7043 non-null   object \n",
            " 20  Churn             7043 non-null   object \n",
            "dtypes: float64(1), int64(2), object(18)\n",
            "memory usage: 1.1+ MB\n"
          ],
          "name": "stdout"
        }
      ]
    },
    {
      "cell_type": "markdown",
      "metadata": {
        "id": "8GzPWWpcSEMW"
      },
      "source": [
        "Check Empty or Blank Space"
      ]
    },
    {
      "cell_type": "code",
      "metadata": {
        "colab": {
          "base_uri": "https://localhost:8080/"
        },
        "id": "L_VgSOJVJqH1",
        "outputId": "e3f9094e-5eff-45e3-aed9-8cf956ba40c5"
      },
      "source": [
        "for col in df.columns:\r\n",
        "  temp = []\r\n",
        "  status = ''\r\n",
        "  if len(df[df[col]==''])>0:\r\n",
        "    status = 'Yes with Empty String'\r\n",
        "  elif len(df[df[col]==' '])>0:\r\n",
        "    status = 'Yes with Blank Space'\r\n",
        "  else:\r\n",
        "    status = 'No'\r\n",
        "  print(\"{:<20} {:<20}\".format(col,status))"
      ],
      "execution_count": 5,
      "outputs": [
        {
          "output_type": "stream",
          "text": [
            "customerID           No                  \n",
            "gender               No                  \n",
            "SeniorCitizen        No                  \n",
            "Partner              No                  \n",
            "Dependents           No                  \n",
            "tenure               No                  \n",
            "PhoneService         No                  \n",
            "MultipleLines        No                  \n",
            "InternetService      No                  \n",
            "OnlineSecurity       No                  \n",
            "OnlineBackup         No                  \n",
            "DeviceProtection     No                  \n",
            "TechSupport          No                  \n",
            "StreamingTV          No                  \n",
            "StreamingMovies      No                  \n",
            "Contract             No                  \n",
            "PaperlessBilling     No                  \n",
            "PaymentMethod        No                  \n",
            "MonthlyCharges       No                  \n",
            "TotalCharges         Yes with Blank Space\n",
            "Churn                No                  \n"
          ],
          "name": "stdout"
        }
      ]
    },
    {
      "cell_type": "markdown",
      "metadata": {
        "id": "u5wIE1ghTW-t"
      },
      "source": [
        "Remove those entries with only empty string or blank space"
      ]
    },
    {
      "cell_type": "code",
      "metadata": {
        "id": "Y_Ks_5pbTcSX"
      },
      "source": [
        "df = df[df['TotalCharges']!=' ']\r\n",
        "df['TotalCharges'] = df['TotalCharges'].apply(lambda x: float(x))"
      ],
      "execution_count": 6,
      "outputs": []
    },
    {
      "cell_type": "markdown",
      "metadata": {
        "id": "Vdo0N775JQeF"
      },
      "source": [
        "#Exploratory Data Analysis"
      ]
    },
    {
      "cell_type": "markdown",
      "metadata": {
        "id": "wtFY84w7UMIT"
      },
      "source": [
        "Through the data visulization, we can see that the dataset is highly imbalanced as there are 5163 : 1869 - (No : Yes)"
      ]
    },
    {
      "cell_type": "code",
      "metadata": {
        "colab": {
          "base_uri": "https://localhost:8080/",
          "height": 302
        },
        "id": "LsF-HFgEI-cD",
        "outputId": "7a6be468-17f9-4945-ae22-8f5df6dcf0eb"
      },
      "source": [
        "df.groupby(['Churn']).size().plot(kind='bar')\r\n",
        "print((df['Churn'] == 'No').sum(),(df['Churn'] == 'Yes').sum())"
      ],
      "execution_count": 7,
      "outputs": [
        {
          "output_type": "stream",
          "text": [
            "5163 1869\n"
          ],
          "name": "stdout"
        },
        {
          "output_type": "display_data",
          "data": {
            "image/png": "[encoded data removed]",
            "text/plain": [
              "<Figure size 432x288 with 1 Axes>"
            ]
          },
          "metadata": {
            "tags": [],
            "needs_background": "light"
          }
        }
      ]
    },
    {
      "cell_type": "code",
      "metadata": {
        "colab": {
          "base_uri": "https://localhost:8080/"
        },
        "id": "KtotQE4UaqZz",
        "outputId": "8f10001b-e021-4cca-c13d-0a1f45cc6d2a"
      },
      "source": [
        "df.columns"
      ],
      "execution_count": 8,
      "outputs": [
        {
          "output_type": "execute_result",
          "data": {
            "text/plain": [
              "Index(['customerID', 'gender', 'SeniorCitizen', 'Partner', 'Dependents',\n",
              "       'tenure', 'PhoneService', 'MultipleLines', 'InternetService',\n",
              "       'OnlineSecurity', 'OnlineBackup', 'DeviceProtection', 'TechSupport',\n",
              "       'StreamingTV', 'StreamingMovies', 'Contract', 'PaperlessBilling',\n",
              "       'PaymentMethod', 'MonthlyCharges', 'TotalCharges', 'Churn'],\n",
              "      dtype='object')"
            ]
          },
          "metadata": {
            "tags": []
          },
          "execution_count": 8
        }
      ]
    },
    {
      "cell_type": "code",
      "metadata": {
        "id": "7GUM8DJiVeWw"
      },
      "source": [
        "category_columns = ['gender','SeniorCitizen', 'Partner', 'Dependents','PhoneService', 'MultipleLines', 'InternetService',\r\n",
        "       'OnlineSecurity', 'OnlineBackup', 'DeviceProtection', 'TechSupport',\r\n",
        "       'StreamingTV', 'StreamingMovies', 'Contract', 'PaperlessBilling',\r\n",
        "       'PaymentMethod','Churn']\r\n",
        "\r\n",
        "numerical_columns = ['tenure','MonthlyCharges', 'TotalCharges']"
      ],
      "execution_count": 9,
      "outputs": []
    },
    {
      "cell_type": "code",
      "metadata": {
        "id": "QEEne0LtcFEd"
      },
      "source": [
        "def get_statistics_churn(x,indicator):\r\n",
        "  d = {}\r\n",
        "  unique = df[x].unique()\r\n",
        "  for item in unique:\r\n",
        "    total = (df[x]==item).sum()\r\n",
        "    temp = df[df['Churn']==indicator]\r\n",
        "    num = (temp[x] == item).sum()/total\r\n",
        "    d[item] = num\r\n",
        "  return d"
      ],
      "execution_count": 10,
      "outputs": []
    },
    {
      "cell_type": "code",
      "metadata": {
        "id": "P2zpSMhncCAy"
      },
      "source": [
        "def plot_stacked_bar(x):\r\n",
        "  '''\r\n",
        "  input:\r\n",
        "  x: list containing columns name for plot\r\n",
        "  output:\r\n",
        "  matplot object with 16 plots showing the stacked percentage bar chart for each class of the categorical variables.\r\n",
        "  '''\r\n",
        "  plt.figure(figsize=(50, 15))\r\n",
        "  i = 1\r\n",
        "  for item in x:\r\n",
        "    d1 = get_statistics_churn(item,'Yes')\r\n",
        "    d2 = get_statistics_churn(item,'No')\r\n",
        "    temp = pd.DataFrame(d1,index=['Yes']).append(pd.DataFrame(d2,index=['No'])).transpose()\r\n",
        "    names = df[item].unique()\r\n",
        "    yes = temp['Yes']\r\n",
        "    no = temp['No']\r\n",
        "    row = range(len(temp))\r\n",
        "    plt.subplot(4,4,i)\r\n",
        "    plt.bar(row,yes)\r\n",
        "    plt.bar(row,no,bottom=yes)\r\n",
        "    plt.xticks(row, names)\r\n",
        "    plt.xlabel(item)\r\n",
        "    i+=1"
      ],
      "execution_count": 11,
      "outputs": []
    },
    {
      "cell_type": "markdown",
      "metadata": {
        "id": "IJale_vTqsUV"
      },
      "source": [
        ""
      ]
    },
    {
      "cell_type": "code",
      "metadata": {
        "colab": {
          "base_uri": "https://localhost:8080/",
          "height": 326
        },
        "id": "gv5DXNUQpARs",
        "outputId": "66eba5d2-8692-4539-c4e4-b43c2429725a"
      },
      "source": [
        "plot_stacked_bar(category_columns[:-1])"
      ],
      "execution_count": 12,
      "outputs": [
        {
          "output_type": "display_data",
          "data": {
            "image/png": "[encoded data removed]",
            "text/plain": [
              "<Figure size 3600x1080 with 16 Axes>"
            ]
          },
          "metadata": {
            "tags": [],
            "needs_background": "light"
          }
        }
      ]
    },
    {
      "cell_type": "code",
      "metadata": {
        "colab": {
          "base_uri": "https://localhost:8080/",
          "height": 809
        },
        "id": "LSD2ojxtss88",
        "outputId": "d367816c-8a54-4561-dd5f-42009ce26873"
      },
      "source": [
        "df_numerical  = df[numerical_columns]\r\n",
        "for item in numerical_columns:\r\n",
        "  df_numerical.hist(column=item)"
      ],
      "execution_count": 14,
      "outputs": [
        {
          "output_type": "display_data",
          "data": {
            "image/png": "[encoded data removed]",
            "text/plain": [
              "<Figure size 432x288 with 1 Axes>"
            ]
          },
          "metadata": {
            "tags": [],
            "needs_background": "light"
          }
        },
        {
          "output_type": "display_data",
          "data": {
            "image/png": "[encoded data removed]",
            "text/plain": [
              "<Figure size 432x288 with 1 Axes>"
            ]
          },
          "metadata": {
            "tags": [],
            "needs_background": "light"
          }
        },
        {
          "output_type": "display_data",
          "data": {
            "image/png": "[encoded data removed]",
            "text/plain": [
              "<Figure size 432x288 with 1 Axes>"
            ]
          },
          "metadata": {
            "tags": [],
            "needs_background": "light"
          }
        }
      ]
    },
    {
      "cell_type": "markdown",
      "metadata": {
        "id": "gzINHA2SUZqE"
      },
      "source": [
        "Standardized the continuous variables "
      ]
    },
    {
      "cell_type": "code",
      "metadata": {
        "colab": {
          "base_uri": "https://localhost:8080/"
        },
        "id": "Fb2lYeKTyIbw",
        "outputId": "54993679-bc62-4629-bd64-91ea14bd63f1"
      },
      "source": [
        "for col in df_numerical:\r\n",
        "  df_numerical.loc[:,col] = (df_numerical[col]-df_numerical[col].mean())/df_numerical[col].std()"
      ],
      "execution_count": 15,
      "outputs": [
        {
          "output_type": "stream",
          "text": [
            "/usr/local/lib/python3.6/dist-packages/pandas/core/indexing.py:1743: SettingWithCopyWarning: \n",
            "A value is trying to be set on a copy of a slice from a DataFrame.\n",
            "Try using .loc[row_indexer,col_indexer] = value instead\n",
            "\n",
            "See the caveats in the documentation: https://pandas.pydata.org/pandas-docs/stable/user_guide/indexing.html#returning-a-view-versus-a-copy\n",
            "  isetter(ilocs[0], value)\n",
            "/usr/local/lib/python3.6/dist-packages/pandas/core/indexing.py:1781: SettingWithCopyWarning: \n",
            "A value is trying to be set on a copy of a slice from a DataFrame.\n",
            "Try using .loc[row_indexer,col_indexer] = value instead\n",
            "\n",
            "See the caveats in the documentation: https://pandas.pydata.org/pandas-docs/stable/user_guide/indexing.html#returning-a-view-versus-a-copy\n",
            "  self.obj[item_labels[indexer[info_axis]]] = value\n"
          ],
          "name": "stderr"
        }
      ]
    },
    {
      "cell_type": "markdown",
      "metadata": {
        "id": "CrCusm45wicg"
      },
      "source": [
        "Transform classes in categorical varaibles to number representation"
      ]
    },
    {
      "cell_type": "code",
      "metadata": {
        "id": "SnqSBYtPvjZE"
      },
      "source": [
        "df_categorical = df[category_columns]"
      ],
      "execution_count": 16,
      "outputs": []
    },
    {
      "cell_type": "code",
      "metadata": {
        "colab": {
          "base_uri": "https://localhost:8080/"
        },
        "id": "E1ntuy8g1C0N",
        "outputId": "26bf2976-e522-45da-fdbd-cf8fcaaedffe"
      },
      "source": [
        "for col in category_columns:\r\n",
        "  df_categorical[col], _ = pd.factorize(df_categorical[col])\r\n",
        "\r\n",
        "target = df_categorical[['Churn']]\r\n",
        "df_categorical = df_categorical.drop('Churn',axis=1)"
      ],
      "execution_count": 17,
      "outputs": [
        {
          "output_type": "stream",
          "text": [
            "/usr/local/lib/python3.6/dist-packages/ipykernel_launcher.py:2: SettingWithCopyWarning: \n",
            "A value is trying to be set on a copy of a slice from a DataFrame.\n",
            "Try using .loc[row_indexer,col_indexer] = value instead\n",
            "\n",
            "See the caveats in the documentation: https://pandas.pydata.org/pandas-docs/stable/user_guide/indexing.html#returning-a-view-versus-a-copy\n",
            "  \n"
          ],
          "name": "stderr"
        }
      ]
    },
    {
      "cell_type": "markdown",
      "metadata": {
        "id": "QhWZlu1cUt_I"
      },
      "source": [
        "Use Chi-Square test to test if a variable should be included in the models."
      ]
    },
    {
      "cell_type": "code",
      "metadata": {
        "colab": {
          "base_uri": "https://localhost:8080/",
          "height": 545
        },
        "id": "nwrcFvTW093R",
        "outputId": "5857715f-74a9-4712-8286-2ebca5310117"
      },
      "source": [
        "chi2_values = []\r\n",
        "p_values = []\r\n",
        "\r\n",
        "for column in df_categorical.columns:\r\n",
        "    contingency = pd.crosstab(df_categorical[column], df['Churn'])\r\n",
        "\r\n",
        "    chi2_val, p_value, degrees_of_freedom, expected = chi2_contingency(contingency)\r\n",
        "    \r\n",
        "    chi2_values.append(chi2_val)\r\n",
        "    p_values.append(p_value)\r\n",
        "    \r\n",
        "data = list(zip(df_categorical.columns, chi2_values, p_values))\r\n",
        "pd.DataFrame(data = data,\r\n",
        "             columns = ['Variable','Chi squared value','p-value'])"
      ],
      "execution_count": 18,
      "outputs": [
        {
          "output_type": "execute_result",
          "data": {
            "text/html": [
              "<div>\n",
              "<style scoped>\n",
              "    .dataframe tbody tr th:only-of-type {\n",
              "        vertical-align: middle;\n",
              "    }\n",
              "\n",
              "    .dataframe tbody tr th {\n",
              "        vertical-align: top;\n",
              "    }\n",
              "\n",
              "    .dataframe thead th {\n",
              "        text-align: right;\n",
              "    }\n",
              "</style>\n",
              "<table border=\"1\" class=\"dataframe\">\n",
              "  <thead>\n",
              "    <tr style=\"text-align: right;\">\n",
              "      <th></th>\n",
              "      <th>Variable</th>\n",
              "      <th>Chi squared value</th>\n",
              "      <th>p-value</th>\n",
              "    </tr>\n",
              "  </thead>\n",
              "  <tbody>\n",
              "    <tr>\n",
              "      <th>0</th>\n",
              "      <td>gender</td>\n",
              "      <td>0.475455</td>\n",
              "      <td>4.904885e-01</td>\n",
              "    </tr>\n",
              "    <tr>\n",
              "      <th>1</th>\n",
              "      <td>SeniorCitizen</td>\n",
              "      <td>158.440816</td>\n",
              "      <td>2.479256e-36</td>\n",
              "    </tr>\n",
              "    <tr>\n",
              "      <th>2</th>\n",
              "      <td>Partner</td>\n",
              "      <td>157.503151</td>\n",
              "      <td>3.973798e-36</td>\n",
              "    </tr>\n",
              "    <tr>\n",
              "      <th>3</th>\n",
              "      <td>Dependents</td>\n",
              "      <td>186.321639</td>\n",
              "      <td>2.019659e-42</td>\n",
              "    </tr>\n",
              "    <tr>\n",
              "      <th>4</th>\n",
              "      <td>PhoneService</td>\n",
              "      <td>0.873733</td>\n",
              "      <td>3.499240e-01</td>\n",
              "    </tr>\n",
              "    <tr>\n",
              "      <th>5</th>\n",
              "      <td>MultipleLines</td>\n",
              "      <td>11.271541</td>\n",
              "      <td>3.567927e-03</td>\n",
              "    </tr>\n",
              "    <tr>\n",
              "      <th>6</th>\n",
              "      <td>InternetService</td>\n",
              "      <td>728.695614</td>\n",
              "      <td>5.831199e-159</td>\n",
              "    </tr>\n",
              "    <tr>\n",
              "      <th>7</th>\n",
              "      <td>OnlineSecurity</td>\n",
              "      <td>846.677389</td>\n",
              "      <td>1.400687e-184</td>\n",
              "    </tr>\n",
              "    <tr>\n",
              "      <th>8</th>\n",
              "      <td>OnlineBackup</td>\n",
              "      <td>599.175185</td>\n",
              "      <td>7.776099e-131</td>\n",
              "    </tr>\n",
              "    <tr>\n",
              "      <th>9</th>\n",
              "      <td>DeviceProtection</td>\n",
              "      <td>555.880327</td>\n",
              "      <td>1.959389e-121</td>\n",
              "    </tr>\n",
              "    <tr>\n",
              "      <th>10</th>\n",
              "      <td>TechSupport</td>\n",
              "      <td>824.925564</td>\n",
              "      <td>7.407808e-180</td>\n",
              "    </tr>\n",
              "    <tr>\n",
              "      <th>11</th>\n",
              "      <td>StreamingTV</td>\n",
              "      <td>372.456502</td>\n",
              "      <td>1.324641e-81</td>\n",
              "    </tr>\n",
              "    <tr>\n",
              "      <th>12</th>\n",
              "      <td>StreamingMovies</td>\n",
              "      <td>374.268432</td>\n",
              "      <td>5.353560e-82</td>\n",
              "    </tr>\n",
              "    <tr>\n",
              "      <th>13</th>\n",
              "      <td>Contract</td>\n",
              "      <td>1179.545829</td>\n",
              "      <td>7.326182e-257</td>\n",
              "    </tr>\n",
              "    <tr>\n",
              "      <th>14</th>\n",
              "      <td>PaperlessBilling</td>\n",
              "      <td>256.874908</td>\n",
              "      <td>8.236203e-58</td>\n",
              "    </tr>\n",
              "    <tr>\n",
              "      <th>15</th>\n",
              "      <td>PaymentMethod</td>\n",
              "      <td>645.429900</td>\n",
              "      <td>1.426310e-139</td>\n",
              "    </tr>\n",
              "  </tbody>\n",
              "</table>\n",
              "</div>"
            ],
            "text/plain": [
              "            Variable  Chi squared value        p-value\n",
              "0             gender           0.475455   4.904885e-01\n",
              "1      SeniorCitizen         158.440816   2.479256e-36\n",
              "2            Partner         157.503151   3.973798e-36\n",
              "3         Dependents         186.321639   2.019659e-42\n",
              "4       PhoneService           0.873733   3.499240e-01\n",
              "5      MultipleLines          11.271541   3.567927e-03\n",
              "6    InternetService         728.695614  5.831199e-159\n",
              "7     OnlineSecurity         846.677389  1.400687e-184\n",
              "8       OnlineBackup         599.175185  7.776099e-131\n",
              "9   DeviceProtection         555.880327  1.959389e-121\n",
              "10       TechSupport         824.925564  7.407808e-180\n",
              "11       StreamingTV         372.456502   1.324641e-81\n",
              "12   StreamingMovies         374.268432   5.353560e-82\n",
              "13          Contract        1179.545829  7.326182e-257\n",
              "14  PaperlessBilling         256.874908   8.236203e-58\n",
              "15     PaymentMethod         645.429900  1.426310e-139"
            ]
          },
          "metadata": {
            "tags": []
          },
          "execution_count": 18
        }
      ]
    },
    {
      "cell_type": "markdown",
      "metadata": {
        "id": "oW9_X00_UxfQ"
      },
      "source": [
        "From the table above, we can conclude that Gender and PhoneService should be excluded from the models as they have a p-value that's higher than 0.05"
      ]
    },
    {
      "cell_type": "code",
      "metadata": {
        "id": "bVSnqVFZ29QM"
      },
      "source": [
        "df_categorical = df_categorical.drop(['gender','PhoneService'],axis=1)"
      ],
      "execution_count": 19,
      "outputs": []
    },
    {
      "cell_type": "code",
      "metadata": {
        "id": "ge5kJlV2wWGf"
      },
      "source": [
        "df_data = df_categorical.join(df_numerical)"
      ],
      "execution_count": 20,
      "outputs": []
    },
    {
      "cell_type": "code",
      "metadata": {
        "id": "0ey21LFqwDmw"
      },
      "source": [
        "#Split the whole dataset into Train, Validation and Test set. with 60%, 20% and 20% of the whole dataset, respectively.\r\n",
        "train_ratio = 0.6\r\n",
        "valid_ratio = 0.2\r\n",
        "test_ratio = 0.2\r\n",
        "\r\n",
        "X_train, X_test, y_train, y_test = train_test_split(df_data, target['Churn'], test_size=test_ratio, random_state=2021, stratify=target)\r\n",
        "\r\n",
        "valid_ratio_real = valid_ratio/(1-test_ratio)\r\n",
        "\r\n",
        "X_train, X_valid, y_train, y_valid = train_test_split(X_train, y_train, test_size=valid_ratio_real, random_state=2021, stratify=y_train)"
      ],
      "execution_count": 21,
      "outputs": []
    },
    {
      "cell_type": "markdown",
      "metadata": {
        "id": "Knpb9WHgdaNa"
      },
      "source": [
        "#Models"
      ]
    },
    {
      "cell_type": "markdown",
      "metadata": {
        "id": "qSDWJ84aVmvp"
      },
      "source": [
        "We implemented several different machine learning models, including Logistic Regression, Decision Tree, Random Forest, XGBoost, Support Vector Machine and Multilayer Perceptron"
      ]
    },
    {
      "cell_type": "markdown",
      "metadata": {
        "id": "kpnLP9JzWMqt"
      },
      "source": [
        "##Logistic Regression"
      ]
    },
    {
      "cell_type": "markdown",
      "metadata": {
        "id": "5H_lp1zcVqxZ"
      },
      "source": [
        "Using GridSearch to tune the hyperparameters for Logistic Regression the best hyper parameter combination is [C=1.01, max_iter of 100 and using Liblinear solver"
      ]
    },
    {
      "cell_type": "code",
      "metadata": {
        "colab": {
          "base_uri": "https://localhost:8080/"
        },
        "id": "t89onp8M9Syl",
        "outputId": "88e9c001-ad3f-4ece-ca8c-e6326d8132d2"
      },
      "source": [
        "clf = LogisticRegression(random_state = 2021, class_weight='balanced')\r\n",
        "parameters ={'C':np.arange(0.01,20,1),\r\n",
        "       'solver':['newton-cg','lbfgs','liblinear','sag','saga'],\r\n",
        "       'max_iter':np.arange(100,500,50)}\r\n",
        "LG_dt = GridSearchCV(clf,parameters).fit(X_train, y_train)\r\n",
        "print(pd.DataFrame(LG_dt.cv_results_))\r\n",
        "LG_dt.best_params_"
      ],
      "execution_count": null,
      "outputs": [
        {
          "output_type": "stream",
          "text": [
            "     mean_fit_time  std_fit_time  ...  std_test_score  rank_test_score\n",
            "0         0.042930      0.004085  ...        0.013877              769\n",
            "1         0.030919      0.001483  ...        0.013877              769\n",
            "2         0.015192      0.000275  ...        0.011417              761\n",
            "3         0.029329      0.003555  ...        0.013877              769\n",
            "4         0.033846      0.001465  ...        0.013877              769\n",
            "..             ...           ...  ...             ...              ...\n",
            "795       0.049165      0.001175  ...        0.014908              113\n",
            "796       0.040388      0.001782  ...        0.014908              113\n",
            "797       0.018833      0.000157  ...        0.014908              113\n",
            "798       0.054886      0.007000  ...        0.014908              113\n",
            "799       0.034796      0.001074  ...        0.014908              113\n",
            "\n",
            "[800 rows x 16 columns]\n"
          ],
          "name": "stdout"
        },
        {
          "output_type": "execute_result",
          "data": {
            "text/plain": [
              "{'C': 1.01, 'max_iter': 100, 'solver': 'liblinear'}"
            ]
          },
          "metadata": {
            "tags": []
          },
          "execution_count": 45
        }
      ]
    },
    {
      "cell_type": "markdown",
      "metadata": {
        "id": "FWBO4DsL9Stk"
      },
      "source": [
        "Fit the model and obtain the Accuracy and F1-Score on validation set"
      ]
    },
    {
      "cell_type": "code",
      "metadata": {
        "colab": {
          "base_uri": "https://localhost:8080/"
        },
        "id": "Rrqr0Tgy0YgA",
        "outputId": "ac41ed3f-fdf0-4f8f-fed6-d5c9dbef1f86"
      },
      "source": [
        "from sklearn.linear_model import LogisticRegression\r\n",
        "clf = LogisticRegression(random_state = 2021, solver='liblinear', C=1.01, max_iter=100, class_weight='balanced').fit(X_train,y_train)\r\n",
        "print('The Accuracy on Validation Set is {:2.2%} for Logistic Regression'.format(clf.score(X_valid, y_valid)))\r\n",
        "print('The F1-Score on Validation Set is {:2.2%} for Logistic Regression'.format(f1_score(y_valid,clf.predict(X_valid),average=\"weighted\")))\r\n",
        "print(classification_report(y_valid, clf.predict(X_valid)))"
      ],
      "execution_count": 108,
      "outputs": [
        {
          "output_type": "stream",
          "text": [
            "The Accuracy on Validation Set is 75.34% for Logistic Regression\n",
            "The F1-Score on Validation Set is 76.55% for Logistic Regression\n",
            "              precision    recall  f1-score   support\n",
            "\n",
            "           0       0.90      0.75      0.82      1033\n",
            "           1       0.52      0.78      0.63       374\n",
            "\n",
            "    accuracy                           0.75      1407\n",
            "   macro avg       0.71      0.76      0.72      1407\n",
            "weighted avg       0.80      0.75      0.77      1407\n",
            "\n"
          ],
          "name": "stdout"
        }
      ]
    },
    {
      "cell_type": "markdown",
      "metadata": {
        "id": "QQWBirTxWV2U"
      },
      "source": [
        "##Decision Tree"
      ]
    },
    {
      "cell_type": "code",
      "metadata": {
        "colab": {
          "base_uri": "https://localhost:8080/"
        },
        "id": "y4Mzl9k54Gza",
        "outputId": "d57fc7fc-4272-4e10-9fd9-e724bef61252"
      },
      "source": [
        "clf1 = DecisionTreeClassifier(random_state = 2021, class_weight='balanced')\r\n",
        "parameters ={'max_depth':np.arange(5,20,1),\r\n",
        "       'min_samples_split':np.arange(2,15,1),\r\n",
        "       'min_samples_leaf':np.arange(1,15,1)}\r\n",
        "GS_dt = GridSearchCV(clf1,parameters,n_jobs=-1).fit(X_train, y_train)\r\n",
        "print(pd.DataFrame(GS_dt.cv_results_))\r\n",
        "GS_dt.best_params_"
      ],
      "execution_count": null,
      "outputs": [
        {
          "output_type": "stream",
          "text": [
            "      mean_fit_time  std_fit_time  ...  std_test_score  rank_test_score\n",
            "0          0.019910      0.003058  ...        0.007267               66\n",
            "1          0.020734      0.003590  ...        0.007267               66\n",
            "2          0.020404      0.003974  ...        0.007267               66\n",
            "3          0.020867      0.003594  ...        0.007267               66\n",
            "4          0.019502      0.003026  ...        0.007267               66\n",
            "...             ...           ...  ...             ...              ...\n",
            "2725       0.024211      0.003884  ...        0.018176              757\n",
            "2726       0.022785      0.001005  ...        0.018176              757\n",
            "2727       0.022675      0.000831  ...        0.018176              757\n",
            "2728       0.022530      0.000850  ...        0.018176              757\n",
            "2729       0.027485      0.005059  ...        0.018176              757\n",
            "\n",
            "[2730 rows x 16 columns]\n"
          ],
          "name": "stdout"
        },
        {
          "output_type": "execute_result",
          "data": {
            "text/plain": [
              "{'max_depth': 5, 'min_samples_leaf': 10, 'min_samples_split': 2}"
            ]
          },
          "metadata": {
            "tags": []
          },
          "execution_count": 67
        }
      ]
    },
    {
      "cell_type": "code",
      "metadata": {
        "colab": {
          "base_uri": "https://localhost:8080/"
        },
        "id": "ut4Ziqgo3fPX",
        "outputId": "ef6e6ac1-a696-4f6e-947b-9f0148f217d6"
      },
      "source": [
        "clf1 = DecisionTreeClassifier(max_depth=5,min_samples_leaf=9,min_samples_split=2,random_state = 2021, class_weight='balanced').fit(X_train, y_train)\r\n",
        "print('The Accuracy on Validation Set is {:2.2%} for Decision Tree'.format(clf1.score(X_valid, y_valid)))\r\n",
        "print('The F1-Score on Validation Set is {:2.2%} for Decision Tree'.format(f1_score(y_valid,clf1.predict(X_valid),average=\"weighted\")))\r\n",
        "print(classification_report(y_valid, clf1.predict(X_valid)))"
      ],
      "execution_count": 99,
      "outputs": [
        {
          "output_type": "stream",
          "text": [
            "The Accuracy on Validation Set is 77.61% for Decision Tree\n",
            "The F1-Score on Validation Set is 78.48% for Decision Tree\n",
            "              precision    recall  f1-score   support\n",
            "\n",
            "           0       0.89      0.79      0.84      1033\n",
            "           1       0.56      0.74      0.64       374\n",
            "\n",
            "    accuracy                           0.78      1407\n",
            "   macro avg       0.73      0.77      0.74      1407\n",
            "weighted avg       0.81      0.78      0.78      1407\n",
            "\n"
          ],
          "name": "stdout"
        }
      ]
    },
    {
      "cell_type": "markdown",
      "metadata": {
        "id": "bvgLM3_SWYjG"
      },
      "source": [
        "##Random Forest"
      ]
    },
    {
      "cell_type": "code",
      "metadata": {
        "colab": {
          "base_uri": "https://localhost:8080/"
        },
        "id": "JywRPJerBA0F",
        "outputId": "f0ff5274-cc86-4011-b425-38374351261b"
      },
      "source": [
        "clf2 = RandomForestClassifier(max_depth=5,min_samples_leaf=9,min_samples_split=2,random_state = 2021, n_estimators = 250, class_weight='balanced').fit(X_train, y_train)\r\n",
        "print('The Accuracy on Validation Set is {:2.2%} for Random Forest'.format(clf2.score(X_valid, y_valid)))\r\n",
        "print('The F1-Score on Validation Set is {:2.2%} for Random Forest'.format(f1_score(y_valid,clf2.predict(X_valid),average=\"weighted\")))\r\n",
        "print(classification_report(y_valid, clf2.predict(X_valid)))"
      ],
      "execution_count": 119,
      "outputs": [
        {
          "output_type": "stream",
          "text": [
            "The Accuracy on Validation Set is 77.75% for Random Forest\n",
            "The F1-Score on Validation Set is 78.78% for Random Forest\n",
            "              precision    recall  f1-score   support\n",
            "\n",
            "           0       0.91      0.77      0.84      1033\n",
            "           1       0.56      0.80      0.66       374\n",
            "\n",
            "    accuracy                           0.78      1407\n",
            "   macro avg       0.73      0.78      0.75      1407\n",
            "weighted avg       0.82      0.78      0.79      1407\n",
            "\n"
          ],
          "name": "stdout"
        }
      ]
    },
    {
      "cell_type": "markdown",
      "metadata": {
        "id": "jlT7yJ2BWbCI"
      },
      "source": [
        "##Support Vector Machine"
      ]
    },
    {
      "cell_type": "code",
      "metadata": {
        "colab": {
          "base_uri": "https://localhost:8080/"
        },
        "id": "i49AhLKcG_sS",
        "outputId": "94a3d213-8084-4724-9a12-c7e40df83546"
      },
      "source": [
        "svc = SVC(random_state=2021,class_weight='balanced',gamma='auto')\r\n",
        "parameters ={'C': np.arange(0.01,10,1),'kernel':['linear','poly','rbf','sigmoid']}\r\n",
        "SVM_dt = GridSearchCV(svc,parameters,n_jobs=-1).fit(X_train, y_train)\r\n",
        "print(pd.DataFrame(SVM_dt.cv_results_))\r\n",
        "SVM_dt.best_params_"
      ],
      "execution_count": null,
      "outputs": [
        {
          "output_type": "stream",
          "text": [
            "    mean_fit_time  std_fit_time  ...  std_test_score  rank_test_score\n",
            "0        0.441912      0.030480  ...        0.011085               26\n",
            "1        0.590758      0.011287  ...        0.013983               40\n",
            "2        0.885218      0.010291  ...        0.012788               30\n",
            "3        1.139122      0.011812  ...        0.008534                9\n",
            "4        0.591805      0.026650  ...        0.012489               19\n",
            "5        0.523261      0.010203  ...        0.014069               29\n",
            "6        0.706105      0.010712  ...        0.018386               14\n",
            "7        0.646972      0.065329  ...        0.013999               31\n",
            "8        0.755701      0.019577  ...        0.012821               20\n",
            "9        0.541022      0.016330  ...        0.011896               12\n",
            "10       0.729911      0.007088  ...        0.017697                6\n",
            "11       0.615355      0.075202  ...        0.014803               32\n",
            "12       0.921154      0.020797  ...        0.013593               22\n",
            "13       0.564356      0.017131  ...        0.011753               12\n",
            "14       0.739609      0.013543  ...        0.015486                5\n",
            "15       0.578509      0.057034  ...        0.013815               35\n",
            "16       1.040303      0.023129  ...        0.013420               20\n",
            "17       0.592407      0.025191  ...        0.012850               10\n",
            "18       0.758403      0.010260  ...        0.017550                1\n",
            "19       0.535445      0.030060  ...        0.018229               38\n",
            "20       1.134346      0.043919  ...        0.013241               23\n",
            "21       0.604412      0.016370  ...        0.012788               15\n",
            "22       0.755321      0.006084  ...        0.016773                4\n",
            "23       0.581652      0.074485  ...        0.015210               34\n",
            "24       1.289589      0.034819  ...        0.013241               23\n",
            "25       0.625909      0.014296  ...        0.011853               17\n",
            "26       0.780385      0.015919  ...        0.017096                3\n",
            "27       0.557605      0.050368  ...        0.019434               37\n",
            "28       1.400171      0.031604  ...        0.012927               27\n",
            "29       0.648457      0.027268  ...        0.013163               16\n",
            "30       0.788039      0.008222  ...        0.018236                2\n",
            "31       0.544139      0.056645  ...        0.020360               36\n",
            "32       1.481174      0.049640  ...        0.012794               28\n",
            "33       0.677159      0.018226  ...        0.014673               18\n",
            "34       0.808263      0.010440  ...        0.016663                7\n",
            "35       0.577652      0.042719  ...        0.020449               39\n",
            "36       1.615128      0.036390  ...        0.013077               25\n",
            "37       0.718205      0.027529  ...        0.017145               11\n",
            "38       0.814173      0.019503  ...        0.013662                8\n",
            "39       0.535141      0.058588  ...        0.016370               33\n",
            "\n",
            "[40 rows x 15 columns]\n"
          ],
          "name": "stdout"
        },
        {
          "output_type": "execute_result",
          "data": {
            "text/plain": [
              "{'C': 4.01, 'kernel': 'rbf'}"
            ]
          },
          "metadata": {
            "tags": []
          },
          "execution_count": 83
        }
      ]
    },
    {
      "cell_type": "code",
      "metadata": {
        "colab": {
          "base_uri": "https://localhost:8080/"
        },
        "id": "zfsGJ2YgGT6Z",
        "outputId": "a87c50f1-8f75-40f9-ba84-677df0f69e5b"
      },
      "source": [
        "svc = SVC(C=4.01,random_state=2021,class_weight='balanced',gamma='auto').fit(X_train, y_train)\r\n",
        "print('The Accuracy on Validation Set is {:2.2%} for Support Vector Machine'.format(svc.score(X_valid, y_valid)))\r\n",
        "print('The F1-Score on Validation Set is {:2.2%} for Support Vector Machine'.format(f1_score(y_valid,svc.predict(X_valid),average=\"weighted\")))\r\n",
        "print(classification_report(y_valid, svc.predict(X_valid)))"
      ],
      "execution_count": 101,
      "outputs": [
        {
          "output_type": "stream",
          "text": [
            "The Accuracy on Validation Set is 77.47% for Support Vector Machine\n",
            "The F1-Score on Validation Set is 78.43% for Support Vector Machine\n",
            "              precision    recall  f1-score   support\n",
            "\n",
            "           0       0.90      0.78      0.84      1033\n",
            "           1       0.56      0.76      0.64       374\n",
            "\n",
            "    accuracy                           0.77      1407\n",
            "   macro avg       0.73      0.77      0.74      1407\n",
            "weighted avg       0.81      0.77      0.78      1407\n",
            "\n"
          ],
          "name": "stdout"
        }
      ]
    },
    {
      "cell_type": "markdown",
      "metadata": {
        "id": "VAS3oj9LGXMt"
      },
      "source": [
        "##XGBoost"
      ]
    },
    {
      "cell_type": "code",
      "metadata": {
        "colab": {
          "base_uri": "https://localhost:8080/"
        },
        "id": "-w3fy4IBBkX4",
        "outputId": "0410af42-d74e-4d8c-ea19-701e884365b7"
      },
      "source": [
        "xg_cla = xgb.XGBClassifier(random_state = 2020, n_estimators =1000, n_jobs =-1)\r\n",
        "xg_cla.fit(X_train,y_train)\r\n",
        "preds_xg = xg_cla.predict(X_valid)\r\n",
        "print(classification_report(y_valid, preds_xg))"
      ],
      "execution_count": 92,
      "outputs": [
        {
          "output_type": "stream",
          "text": [
            "              precision    recall  f1-score   support\n",
            "\n",
            "           0       0.83      0.91      0.87      1033\n",
            "           1       0.66      0.49      0.56       374\n",
            "\n",
            "    accuracy                           0.80      1407\n",
            "   macro avg       0.75      0.70      0.72      1407\n",
            "weighted avg       0.79      0.80      0.79      1407\n",
            "\n"
          ],
          "name": "stdout"
        }
      ]
    },
    {
      "cell_type": "code",
      "metadata": {
        "colab": {
          "base_uri": "https://localhost:8080/"
        },
        "id": "l7rdEWE_LRt-",
        "outputId": "bfba24b3-8d8e-4a53-c783-f573703c9f6e"
      },
      "source": [
        "preds_xg = xg_cla.predict(X_valid)\n",
        "print('The F1-Score on Validation Set is {:2.2%} for Multilayer Perceptron'.format(f1_score(y_valid,preds_xg,average=\"weighted\")))"
      ],
      "execution_count": 107,
      "outputs": [
        {
          "output_type": "stream",
          "text": [
            "The F1-Score on Validation Set is 78.72% for Multilayer Perceptron\n"
          ],
          "name": "stdout"
        }
      ]
    },
    {
      "cell_type": "code",
      "metadata": {
        "colab": {
          "base_uri": "https://localhost:8080/",
          "height": 312
        },
        "id": "frKYno7Yx5_r",
        "outputId": "3ddfab3a-8a96-4f85-93d2-e540b98b4a3d"
      },
      "source": [
        "plot_importance(xg_cla)"
      ],
      "execution_count": null,
      "outputs": [
        {
          "output_type": "execute_result",
          "data": {
            "text/plain": [
              "<matplotlib.axes._subplots.AxesSubplot at 0x7efcba8d0a20>"
            ]
          },
          "metadata": {
            "tags": []
          },
          "execution_count": 74
        },
        {
          "output_type": "display_data",
          "data": {
            "image/png": "[encoded data removed]",
            "text/plain": [
              "<Figure size 432x288 with 1 Axes>"
            ]
          },
          "metadata": {
            "tags": [],
            "needs_background": "light"
          }
        }
      ]
    },
    {
      "cell_type": "markdown",
      "metadata": {
        "id": "DPHFtQHlWhJU"
      },
      "source": [
        "##Multilayer Perceptron"
      ]
    },
    {
      "cell_type": "code",
      "metadata": {
        "colab": {
          "base_uri": "https://localhost:8080/"
        },
        "id": "mRT_9BinDYRT",
        "outputId": "468f7d4d-65f4-426e-9e1a-537d8090e076"
      },
      "source": [
        "clf3 = MLPClassifier(random_state = 2021,max_iter=500,solver='sgd').fit(X_train, y_train)\r\n",
        "print('The Accuracy on Validation Set is {:2.2%} for Multilayer Perceptron'.format(clf3.score(X_valid, y_valid)))\r\n",
        "print('The F1-Score on Validation Set is {:2.2%} for Multilayer Perceptron'.format(f1_score(y_valid,clf3.predict(X_valid),average=\"weighted\")))\r\n",
        "print(classification_report(y_valid, clf3.predict(X_valid)))"
      ],
      "execution_count": 22,
      "outputs": [
        {
          "output_type": "stream",
          "text": [
            "The Accuracy on Validation Set is 80.38% for Multilayer Perceptron\n",
            "The F1-Score on Validation Set is 79.48% for Multilayer Perceptron\n",
            "              precision    recall  f1-score   support\n",
            "\n",
            "           0       0.84      0.91      0.87      1033\n",
            "           1       0.67      0.51      0.58       374\n",
            "\n",
            "    accuracy                           0.80      1407\n",
            "   macro avg       0.75      0.71      0.73      1407\n",
            "weighted avg       0.79      0.80      0.79      1407\n",
            "\n"
          ],
          "name": "stdout"
        }
      ]
    },
    {
      "cell_type": "markdown",
      "metadata": {
        "id": "Yth_mjZaK3ST"
      },
      "source": [
        "#Conclusion"
      ]
    },
    {
      "cell_type": "markdown",
      "metadata": {
        "id": "V2b4c02aLQIt"
      },
      "source": [
        "| Model                  |    F1-Score    |\r\n",
        "|------------------------|----------------|\r\n",
        "| Logistic Regression    |    76.55%      |\r\n",
        "| Decision Tree          |    78.48%      |\r\n",
        "| Support Vector Machine |    78.43%      |\r\n",
        "| Multilayer Perceptron  |    79.48%      |\r\n",
        "| Random Forest          |    78.78%      |\r\n",
        "| XGBoost                |    78.72%      |"
      ]
    },
    {
      "cell_type": "markdown",
      "metadata": {
        "id": "1Y9ciyJwTmMR"
      },
      "source": [
        "The winner on validation set is Multilayer Perceptron, therefore we would use it on the test set. Additionally, from feature importance calculated in XGBoost, we have the insight that monthly charges, total charges and tenure with the company are really important to detect if a customer would churn or not."
      ]
    },
    {
      "cell_type": "code",
      "metadata": {
        "id": "1xSUgfRYK2_u",
        "colab": {
          "base_uri": "https://localhost:8080/"
        },
        "outputId": "ebe91503-c800-4578-b47e-f9422086b81e"
      },
      "source": [
        "pred_test = clf3.predict(X_test)\n",
        "print('The Accuracy on Test Set is {:2.2%} for Multilayer Perceptron'.format(clf3.score(X_test, y_test)))\n",
        "print('The F1-Score on Test Set is {:2.2%} for Multilayer Perceptron'.format(f1_score(y_test,pred_test,average=\"weighted\")))\n",
        "print(classification_report(y_test,pred_test))"
      ],
      "execution_count": 27,
      "outputs": [
        {
          "output_type": "stream",
          "text": [
            "The Accuracy on Test Set is 80.03% for Multilayer Perceptron\n",
            "The F1-Score on Test Set is 79.31% for Multilayer Perceptron\n",
            "              precision    recall  f1-score   support\n",
            "\n",
            "           0       0.84      0.90      0.87      1033\n",
            "           1       0.65      0.53      0.58       374\n",
            "\n",
            "    accuracy                           0.80      1407\n",
            "   macro avg       0.75      0.71      0.73      1407\n",
            "weighted avg       0.79      0.80      0.79      1407\n",
            "\n"
          ],
          "name": "stdout"
        }
      ]
    },
    {
      "cell_type": "markdown",
      "metadata": {
        "id": "YE2o6qEmXS2s"
      },
      "source": [
        "We found that XG Boost performs the best in this case. The company can use this model to predict whether the customers will churn or not and help them to keep their customers under most situation. \n",
        "\n",
        "We used feature ranking to find most influent features In this case, “Monthly Charges”, “Total Charges” and “Tenure”, the company can focus on these features and get the better result and the lowest cost."
      ]
    }
  ]
}
